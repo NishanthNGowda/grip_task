{
  "nbformat": 4,
  "nbformat_minor": 0,
  "metadata": {
    "colab": {
      "name": "GRIP Task#1.ipynb",
      "provenance": [],
      "collapsed_sections": []
    },
    "kernelspec": {
      "name": "python3",
      "display_name": "Python 3"
    },
    "language_info": {
      "name": "python"
    }
  },
  "cells": [
    {
      "cell_type": "markdown",
      "metadata": {
        "id": "7Qg8_qqqujkZ"
      },
      "source": [
        "# ***The Sparks Foundation***\n",
        "## **Data Science and Business Analytics Internship**\n",
        "\n",
        "**Task-1: PREDICTION USING SUPERVISED ML**\n"
      ]
    },
    {
      "cell_type": "markdown",
      "metadata": {
        "id": "H68FPSFzxVcD"
      },
      "source": [
        "***Importing Packages:***"
      ]
    },
    {
      "cell_type": "code",
      "metadata": {
        "id": "aBTwr_l5ulIA"
      },
      "source": [
        "import pandas as pd\n",
        "import numpy as ny\n",
        "import matplotlib.pyplot as plt"
      ],
      "execution_count": null,
      "outputs": []
    },
    {
      "cell_type": "markdown",
      "metadata": {
        "id": "IArRJbRSznsp"
      },
      "source": [
        "***Reading the file*:**\n",
        "\n"
      ]
    },
    {
      "cell_type": "code",
      "metadata": {
        "colab": {
          "base_uri": "https://localhost:8080/",
          "height": 824
        },
        "id": "Aure-H4V0WGw",
        "outputId": "3cb088cd-c7d6-4b3c-9870-e36895adf44a"
      },
      "source": [
        "sd=pd.read_csv('/content/student_scores - student_scores.csv')\n",
        "sd"
      ],
      "execution_count": null,
      "outputs": [
        {
          "output_type": "execute_result",
          "data": {
            "text/html": [
              "<div>\n",
              "<style scoped>\n",
              "    .dataframe tbody tr th:only-of-type {\n",
              "        vertical-align: middle;\n",
              "    }\n",
              "\n",
              "    .dataframe tbody tr th {\n",
              "        vertical-align: top;\n",
              "    }\n",
              "\n",
              "    .dataframe thead th {\n",
              "        text-align: right;\n",
              "    }\n",
              "</style>\n",
              "<table border=\"1\" class=\"dataframe\">\n",
              "  <thead>\n",
              "    <tr style=\"text-align: right;\">\n",
              "      <th></th>\n",
              "      <th>Hours</th>\n",
              "      <th>Scores</th>\n",
              "    </tr>\n",
              "  </thead>\n",
              "  <tbody>\n",
              "    <tr>\n",
              "      <th>0</th>\n",
              "      <td>2.5</td>\n",
              "      <td>21</td>\n",
              "    </tr>\n",
              "    <tr>\n",
              "      <th>1</th>\n",
              "      <td>5.1</td>\n",
              "      <td>47</td>\n",
              "    </tr>\n",
              "    <tr>\n",
              "      <th>2</th>\n",
              "      <td>3.2</td>\n",
              "      <td>27</td>\n",
              "    </tr>\n",
              "    <tr>\n",
              "      <th>3</th>\n",
              "      <td>8.5</td>\n",
              "      <td>75</td>\n",
              "    </tr>\n",
              "    <tr>\n",
              "      <th>4</th>\n",
              "      <td>3.5</td>\n",
              "      <td>30</td>\n",
              "    </tr>\n",
              "    <tr>\n",
              "      <th>5</th>\n",
              "      <td>1.5</td>\n",
              "      <td>20</td>\n",
              "    </tr>\n",
              "    <tr>\n",
              "      <th>6</th>\n",
              "      <td>9.2</td>\n",
              "      <td>88</td>\n",
              "    </tr>\n",
              "    <tr>\n",
              "      <th>7</th>\n",
              "      <td>5.5</td>\n",
              "      <td>60</td>\n",
              "    </tr>\n",
              "    <tr>\n",
              "      <th>8</th>\n",
              "      <td>8.3</td>\n",
              "      <td>81</td>\n",
              "    </tr>\n",
              "    <tr>\n",
              "      <th>9</th>\n",
              "      <td>2.7</td>\n",
              "      <td>25</td>\n",
              "    </tr>\n",
              "    <tr>\n",
              "      <th>10</th>\n",
              "      <td>7.7</td>\n",
              "      <td>85</td>\n",
              "    </tr>\n",
              "    <tr>\n",
              "      <th>11</th>\n",
              "      <td>5.9</td>\n",
              "      <td>62</td>\n",
              "    </tr>\n",
              "    <tr>\n",
              "      <th>12</th>\n",
              "      <td>4.5</td>\n",
              "      <td>41</td>\n",
              "    </tr>\n",
              "    <tr>\n",
              "      <th>13</th>\n",
              "      <td>3.3</td>\n",
              "      <td>42</td>\n",
              "    </tr>\n",
              "    <tr>\n",
              "      <th>14</th>\n",
              "      <td>1.1</td>\n",
              "      <td>17</td>\n",
              "    </tr>\n",
              "    <tr>\n",
              "      <th>15</th>\n",
              "      <td>8.9</td>\n",
              "      <td>95</td>\n",
              "    </tr>\n",
              "    <tr>\n",
              "      <th>16</th>\n",
              "      <td>2.5</td>\n",
              "      <td>30</td>\n",
              "    </tr>\n",
              "    <tr>\n",
              "      <th>17</th>\n",
              "      <td>1.9</td>\n",
              "      <td>24</td>\n",
              "    </tr>\n",
              "    <tr>\n",
              "      <th>18</th>\n",
              "      <td>6.1</td>\n",
              "      <td>67</td>\n",
              "    </tr>\n",
              "    <tr>\n",
              "      <th>19</th>\n",
              "      <td>7.4</td>\n",
              "      <td>69</td>\n",
              "    </tr>\n",
              "    <tr>\n",
              "      <th>20</th>\n",
              "      <td>2.7</td>\n",
              "      <td>30</td>\n",
              "    </tr>\n",
              "    <tr>\n",
              "      <th>21</th>\n",
              "      <td>4.8</td>\n",
              "      <td>54</td>\n",
              "    </tr>\n",
              "    <tr>\n",
              "      <th>22</th>\n",
              "      <td>3.8</td>\n",
              "      <td>35</td>\n",
              "    </tr>\n",
              "    <tr>\n",
              "      <th>23</th>\n",
              "      <td>6.9</td>\n",
              "      <td>76</td>\n",
              "    </tr>\n",
              "    <tr>\n",
              "      <th>24</th>\n",
              "      <td>7.8</td>\n",
              "      <td>86</td>\n",
              "    </tr>\n",
              "  </tbody>\n",
              "</table>\n",
              "</div>"
            ],
            "text/plain": [
              "    Hours  Scores\n",
              "0     2.5      21\n",
              "1     5.1      47\n",
              "2     3.2      27\n",
              "3     8.5      75\n",
              "4     3.5      30\n",
              "5     1.5      20\n",
              "6     9.2      88\n",
              "7     5.5      60\n",
              "8     8.3      81\n",
              "9     2.7      25\n",
              "10    7.7      85\n",
              "11    5.9      62\n",
              "12    4.5      41\n",
              "13    3.3      42\n",
              "14    1.1      17\n",
              "15    8.9      95\n",
              "16    2.5      30\n",
              "17    1.9      24\n",
              "18    6.1      67\n",
              "19    7.4      69\n",
              "20    2.7      30\n",
              "21    4.8      54\n",
              "22    3.8      35\n",
              "23    6.9      76\n",
              "24    7.8      86"
            ]
          },
          "metadata": {},
          "execution_count": 5
        }
      ]
    },
    {
      "cell_type": "markdown",
      "metadata": {
        "id": "1652eTr30p1X"
      },
      "source": [
        "**Visualizing the dataset:**\n",
        "\n",
        "**We Plot the distribution of scores:**"
      ]
    },
    {
      "cell_type": "code",
      "metadata": {
        "colab": {
          "base_uri": "https://localhost:8080/",
          "height": 295
        },
        "id": "-PWg6gXK1JRl",
        "outputId": "ed58d4d5-c82e-44f4-860f-ddd0f34017de"
      },
      "source": [
        "sd.plot(x='Hours',y='Scores',style='+',markeredgecolor='red')\n",
        "plt.title('Hours vs Scores')\n",
        "plt.xlabel('HOURS STUDIED')\n",
        "plt.ylabel('SCORES OBTAINED')\n",
        "plt.grid()\n",
        "plt.show()"
      ],
      "execution_count": null,
      "outputs": [
        {
          "output_type": "display_data",
          "data": {
            "image/png": "[encoded data removed]",
            "text/plain": [
              "<Figure size 432x288 with 1 Axes>"
            ]
          },
          "metadata": {
            "needs_background": "light"
          }
        }
      ]
    },
    {
      "cell_type": "markdown",
      "metadata": {
        "id": "-WX3-16yU2ol"
      },
      "source": [
        "**Dividing data into 'attributes' and 'labels':**"
      ]
    },
    {
      "cell_type": "code",
      "metadata": {
        "colab": {
          "base_uri": "https://localhost:8080/"
        },
        "id": "CIb055uHS_V8",
        "outputId": "4de2d028-f104-4fa3-b9d8-c37dc803b6e2"
      },
      "source": [
        "x_data=sd.loc[:,['Hours']].values\n",
        "y_data=sd.loc[:,['Scores']].values\n",
        "print(x_data)\n",
        "print(y_data)\n",
        "print(type(x_data))\n",
        "print(type(y_data))\n"
      ],
      "execution_count": null,
      "outputs": [
        {
          "output_type": "stream",
          "name": "stdout",
          "text": [
            "[[2.5]\n",
            " [5.1]\n",
            " [3.2]\n",
            " [8.5]\n",
            " [3.5]\n",
            " [1.5]\n",
            " [9.2]\n",
            " [5.5]\n",
            " [8.3]\n",
            " [2.7]\n",
            " [7.7]\n",
            " [5.9]\n",
            " [4.5]\n",
            " [3.3]\n",
            " [1.1]\n",
            " [8.9]\n",
            " [2.5]\n",
            " [1.9]\n",
            " [6.1]\n",
            " [7.4]\n",
            " [2.7]\n",
            " [4.8]\n",
            " [3.8]\n",
            " [6.9]\n",
            " [7.8]]\n",
            "[[21]\n",
            " [47]\n",
            " [27]\n",
            " [75]\n",
            " [30]\n",
            " [20]\n",
            " [88]\n",
            " [60]\n",
            " [81]\n",
            " [25]\n",
            " [85]\n",
            " [62]\n",
            " [41]\n",
            " [42]\n",
            " [17]\n",
            " [95]\n",
            " [30]\n",
            " [24]\n",
            " [67]\n",
            " [69]\n",
            " [30]\n",
            " [54]\n",
            " [35]\n",
            " [76]\n",
            " [86]]\n",
            "<class 'numpy.ndarray'>\n",
            "<class 'numpy.ndarray'>\n"
          ]
        }
      ]
    },
    {
      "cell_type": "markdown",
      "metadata": {
        "id": "e6qewEXYVIXl"
      },
      "source": [
        "**Splitting the Data**\n",
        "\n",
        "**Splitting the data as test and train data for the model**"
      ]
    },
    {
      "cell_type": "code",
      "metadata": {
        "id": "hELVnydXVH-F"
      },
      "source": [
        "from sklearn.model_selection import train_test_split\n",
        "train_x,test_x,train_y,test_y=train_test_split(x_data,y_data,test_size=0.2,random_state=2021)\n"
      ],
      "execution_count": null,
      "outputs": []
    },
    {
      "cell_type": "markdown",
      "metadata": {
        "id": "8pqkTN2irYu1"
      },
      "source": [
        "**NO. of columns and rows the dataset has split into training and testing data:**"
      ]
    },
    {
      "cell_type": "code",
      "metadata": {
        "colab": {
          "base_uri": "https://localhost:8080/"
        },
        "id": "v0O9tB4iq5L8",
        "outputId": "ae4e52a2-d5f8-4200-c19c-abc016f21f14"
      },
      "source": [
        "print(train_x.shape)\n",
        "print(train_y.shape)\n",
        "print(test_x.shape)\n",
        "print(test_y.shape)"
      ],
      "execution_count": null,
      "outputs": [
        {
          "output_type": "stream",
          "name": "stdout",
          "text": [
            "(20, 1)\n",
            "(20, 1)\n",
            "(5, 1)\n",
            "(5, 1)\n"
          ]
        }
      ]
    },
    {
      "cell_type": "markdown",
      "metadata": {
        "id": "Jb37kQclr1Ih"
      },
      "source": [
        "**Training the Model:**"
      ]
    },
    {
      "cell_type": "code",
      "metadata": {
        "colab": {
          "base_uri": "https://localhost:8080/"
        },
        "id": "eDloGnI-ZTtL",
        "outputId": "a183440b-1128-497b-b2e9-37e4cff0059c"
      },
      "source": [
        "from sklearn.linear_model import LinearRegression  \n",
        "reg = LinearRegression()  \n",
        "reg.fit(train_x, train_y) \n",
        "print(reg.coef_)\n",
        "print(reg.intercept_)\n",
        "print(\"Training complete.\")"
      ],
      "execution_count": null,
      "outputs": [
        {
          "output_type": "stream",
          "name": "stdout",
          "text": [
            "[[9.44982051]]\n",
            "[3.85591541]\n",
            "Training complete.\n"
          ]
        }
      ]
    },
    {
      "cell_type": "markdown",
      "metadata": {
        "id": "bKSCLJUbsZSA"
      },
      "source": [
        "**Predicting the values from the fit model:**"
      ]
    },
    {
      "cell_type": "code",
      "metadata": {
        "colab": {
          "base_uri": "https://localhost:8080/"
        },
        "id": "siSur1SPcL3K",
        "outputId": "53777e58-a671-4146-b376-25ffdef69d9f"
      },
      "source": [
        "pred_y=reg.predict(test_x)\n",
        "print(pred_y)"
      ],
      "execution_count": null,
      "outputs": [
        {
          "output_type": "stream",
          "name": "stdout",
          "text": [
            "[[69.05967692]\n",
            " [27.48046668]\n",
            " [76.61953332]\n",
            " [36.93028719]\n",
            " [29.37043078]]\n"
          ]
        }
      ]
    },
    {
      "cell_type": "markdown",
      "metadata": {
        "id": "yulYdt9Wsj9O"
      },
      "source": [
        "**Comparing the predicted data and Actual data:**"
      ]
    },
    {
      "cell_type": "code",
      "metadata": {
        "colab": {
          "base_uri": "https://localhost:8080/"
        },
        "id": "lF40U1jyst0t",
        "outputId": "a8fe09c4-31a1-4e29-a48f-cc9d649e2691"
      },
      "source": [
        "for i in range(0,len(pred_y)):\n",
        "    print(\"Predicted: \",pred_y[i],\" Actual:\",test_y[i])"
      ],
      "execution_count": null,
      "outputs": [
        {
          "output_type": "stream",
          "name": "stdout",
          "text": [
            "Predicted:  [69.05967692]  Actual: [76]\n",
            "Predicted:  [27.48046668]  Actual: [30]\n",
            "Predicted:  [76.61953332]  Actual: [85]\n",
            "Predicted:  [36.93028719]  Actual: [30]\n",
            "Predicted:  [29.37043078]  Actual: [25]\n"
          ]
        }
      ]
    },
    {
      "cell_type": "markdown",
      "metadata": {
        "id": "jFgx7lbZvsDm"
      },
      "source": [
        "**Plotting the Regression line:**"
      ]
    },
    {
      "cell_type": "code",
      "metadata": {
        "colab": {
          "base_uri": "https://localhost:8080/",
          "height": 295
        },
        "id": "A-co8489tD1w",
        "outputId": "73bafaf1-45b8-45f7-9040-62123a7c72ed"
      },
      "source": [
        "plt.scatter(train_x,train_y,color='blue')\n",
        "plt.plot(train_x,reg.predict(train_x),color='yellow')\n",
        "plt.title('Hours studied vs Scores obtained')\n",
        "plt.xlabel('Hours studied')\n",
        "plt.ylabel('Scores obtained')\n",
        "plt.show()"
      ],
      "execution_count": null,
      "outputs": [
        {
          "output_type": "display_data",
          "data": {
            "image/png": "[encoded data removed]",
            "text/plain": [
              "<Figure size 432x288 with 1 Axes>"
            ]
          },
          "metadata": {
            "needs_background": "light"
          }
        }
      ]
    },
    {
      "cell_type": "markdown",
      "metadata": {
        "id": "64uA4jIW3PKv"
      },
      "source": [
        "**What will be the Predicted score if the student studies for 9.25hrs/day?:**"
      ]
    },
    {
      "cell_type": "code",
      "metadata": {
        "colab": {
          "base_uri": "https://localhost:8080/"
        },
        "id": "3QXQpzR43_Db",
        "outputId": "a1ceb19d-b0ca-4bdd-8fe9-a7ad5e4173e0"
      },
      "source": [
        "no_Hours=ny.array([9.25])\n",
        "predict_score=reg.predict([no_Hours])\n",
        "print(\"NO OF HOURS=\",no_Hours[0])\n",
        "print(\"PREDICTED SCORE=\",predict_score[0][0])\n",
        "print(type(no_Hours))\n",
        "print(type(predict_score))\n"
      ],
      "execution_count": null,
      "outputs": [
        {
          "output_type": "stream",
          "name": "stdout",
          "text": [
            "NO OF HOURS= 9.25\n",
            "PREDICTED SCORE= 91.2667551115967\n",
            "<class 'numpy.ndarray'>\n",
            "<class 'numpy.ndarray'>\n"
          ]
        }
      ]
    },
    {
      "cell_type": "markdown",
      "metadata": {
        "id": "hmGEwrYH_ucG"
      },
      "source": [
        "**Evaluating the model:**"
      ]
    },
    {
      "cell_type": "code",
      "metadata": {
        "colab": {
          "base_uri": "https://localhost:8080/"
        },
        "id": "jVv_tA6D_zbG",
        "outputId": "92fabede-d53f-4890-ccb0-fcc13682025a"
      },
      "source": [
        "from sklearn import metrics\n",
        "print(\"MEAN ABSOLUTE ERROR:\",metrics.mean_absolute_error(test_y,pred_y))\n",
        "print(\"MEAN SQUARED ERROR:\",metrics.mean_squared_error(test_y,pred_y))\n",
        "print(\"MEAN ABSOLUTE ERROR:\",ny.sqrt(metrics.mean_squared_error(test_y,pred_y)))"
      ],
      "execution_count": null,
      "outputs": [
        {
          "output_type": "stream",
          "name": "stdout",
          "text": [
            "MEAN ABSOLUTE ERROR: 5.828208209770564\n",
            "MEAN SQUARED ERROR: 38.37558001488635\n",
            "MEAN ABSOLUTE ERROR: 6.19480266149668\n"
          ]
        }
      ]
    },
    {
      "cell_type": "markdown",
      "metadata": {
        "id": "bEqavxeSAV_j"
      },
      "source": [
        ""
      ]
    }
  ]
}